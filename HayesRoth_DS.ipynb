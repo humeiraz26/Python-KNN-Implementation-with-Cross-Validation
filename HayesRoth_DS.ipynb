{
  "cells": [
    {
      "cell_type": "code",
      "execution_count": 19,
      "metadata": {
        "id": "5wNXTSAxjRAt"
      },
      "outputs": [],
      "source": [
        "import numpy as np\n",
        "import pandas as pd\n",
        "from collections import Counter\n",
        "from math import sqrt\n",
        "from sklearn.model_selection import KFold\n",
        "from sklearn.neighbors import KNeighborsClassifier\n",
        "from scipy import stats"
      ]
    },
    {
      "cell_type": "code",
      "source": [
        "from google.colab import drive\n",
        "drive.mount('/content/drive')"
      ],
      "metadata": {
        "colab": {
          "base_uri": "https://localhost:8080/"
        },
        "id": "rN9w2cKJjUtc",
        "outputId": "121aa255-e00b-4a5a-be92-53edd110836c"
      },
      "execution_count": 20,
      "outputs": [
        {
          "output_type": "stream",
          "name": "stdout",
          "text": [
            "Drive already mounted at /content/drive; to attempt to forcibly remount, call drive.mount(\"/content/drive\", force_remount=True).\n"
          ]
        }
      ]
    },
    {
      "cell_type": "code",
      "execution_count": 21,
      "metadata": {
        "id": "_svBqECVjRAu"
      },
      "outputs": [],
      "source": [
        "# Load the dataset\n",
        "file_path = \"/content/drive/MyDrive/hayes-roth.data\"\n",
        "names = ['name', 'hobby', 'age', 'educational level', 'marital status', 'class']\n",
        "dataset = pd.read_csv(file_path, names=names)\n",
        "\n",
        "# Drop Missing Values\n",
        "dataset.dropna(inplace=True)\n",
        "\n",
        "# Convert categorical features to numerical\n",
        "for column in dataset.columns:\n",
        "    if dataset[column].dtype == 'object':\n",
        "        dataset[column] = dataset[column].astype('category').cat.codes"
      ]
    },
    {
      "cell_type": "code",
      "execution_count": 22,
      "metadata": {
        "id": "G1mv9YaojRAv"
      },
      "outputs": [],
      "source": [
        "# Split the dataset\n",
        "X = dataset.iloc[:, :-1].values\n",
        "y = dataset.iloc[:, -1].values\n",
        "\n",
        "# Normalize the data\n",
        "X = (X - X.min(axis=0)) / (X.max(axis=0) - X.min(axis=0))"
      ]
    },
    {
      "cell_type": "code",
      "execution_count": 23,
      "metadata": {
        "id": "zS-5G60ojRAv"
      },
      "outputs": [],
      "source": [
        "# Define the custom kNN classifier\n",
        "class KNN:\n",
        "  def __init__(self, k=10, distance='euclidean', weighted=False):\n",
        "        self.k = k\n",
        "        self.distance = distance\n",
        "        self.weighted = weighted\n",
        "\n",
        "  def fit(self, X, y):\n",
        "        self.X_train = X\n",
        "        self.y_train = y\n",
        "\n",
        "  def predict(self, X):\n",
        "        y_pred = [self._predict(x) for x in X]\n",
        "        return y_pred\n",
        "\n",
        "  def _predict(self, x):\n",
        "        # Compute distances\n",
        "        distances = [self._distance(x_train, x) for x_train in self.X_train]\n",
        "        k_indices = np.argsort(distances)[:self.k]  # Get the indices of k-nearest samples\n",
        "        k_nearest_labels = [self.y_train[i] for i in k_indices]\n",
        "\n",
        "        if self.weighted:\n",
        "            # Weighted Majority vote\n",
        "            weights = [1 / d if d != 0 else 1 for d in np.sort(distances)[:self.k]]\n",
        "            weighted_vote = Counter()\n",
        "            for label, weight in zip(k_nearest_labels, weights):\n",
        "                weighted_vote[label] += weight\n",
        "            return weighted_vote.most_common(1)[0][0]\n",
        "\n",
        "        # Majority vote\n",
        "        most_common = Counter(k_nearest_labels).most_common(1)\n",
        "        return most_common[0][0]\n",
        "\n",
        "  def _distance(self, x1, x2):\n",
        "        if self.distance == 'manhattan':\n",
        "            return np.sum(np.abs(x1 - x2))\n",
        "        return sqrt(np.sum((x1 - x2) ** 2))"
      ]
    },
    {
      "cell_type": "code",
      "execution_count": 24,
      "metadata": {
        "id": "cngGnqhljRAv"
      },
      "outputs": [],
      "source": [
        "# Define k-fold cross-val\n",
        "def custom_kfold_crossval(X, y, k=10):\n",
        "    folds = np.array_split(X, k)\n",
        "    fold_labels = np.array_split(y, k)\n",
        "    accuracy_custom = []\n",
        "\n",
        "    for k in range(1, 11):\n",
        "        fold_accu = []\n",
        "        for i in range(10):  # Assuming 10-fold CV\n",
        "            X_train = np.concatenate([fold for j, fold in enumerate(folds) if j != i])\n",
        "            y_train = np.concatenate([fold for j, fold in enumerate(fold_labels) if j != i])\n",
        "            X_test = folds[i]\n",
        "            y_test = fold_labels[i]\n",
        "\n",
        "            classifier = KNN(k=k, distance='euclidean', weighted=True)\n",
        "            classifier.fit(X_train, y_train)\n",
        "            preds = classifier.predict(X_test)\n",
        "            accuracy = sum(preds == y_test) / len(y_test) * 100\n",
        "            fold_accu.append(accuracy)\n",
        "\n",
        "        accuracy_custom.append(fold_accu)\n",
        "\n",
        "    return accuracy_custom"
      ]
    },
    {
      "cell_type": "code",
      "execution_count": 25,
      "metadata": {
        "id": "rB13Z-9FjRAv"
      },
      "outputs": [],
      "source": [
        "# Define k-fold cross-validation function for scikit-learn kNN\n",
        "def sklearn_kfold_crossval(X, y, k=10):\n",
        "    kf = KFold(n_splits=k, shuffle=True, random_state=42)\n",
        "    accuracy_sklearn = []\n",
        "\n",
        "    for k in range(1, 11):\n",
        "        fold_accuracy_custom = []\n",
        "        fold_accuracy_sklearn = []\n",
        "\n",
        "        for train_index, test_index in kf.split(X):\n",
        "            X_train, X_test = X[train_index], X[test_index]\n",
        "            y_train, y_test = y[train_index], y[test_index]\n",
        "\n",
        "            # Scikit-learn kNN\n",
        "            sklearn_classifier = KNeighborsClassifier(n_neighbors=k, weights='distance', metric='euclidean')\n",
        "            sklearn_classifier.fit(X_train, y_train)\n",
        "            sklearn_preds = sklearn_classifier.predict(X_test)\n",
        "            sklearn_accuracy = (sklearn_preds == y_test).mean() * 100\n",
        "            fold_accuracy_sklearn.append(sklearn_accuracy)\n",
        "\n",
        "        accuracy_sklearn.append(fold_accuracy_sklearn)\n",
        "\n",
        "    return accuracy_sklearn"
      ]
    },
    {
      "cell_type": "code",
      "execution_count": 26,
      "metadata": {
        "id": "GRluY-53jRAw"
      },
      "outputs": [],
      "source": [
        "# Perform k-fold cross-validation for both custom and scikit-learn kNN\n",
        "custom_accuracies, sklearn_accuracies = custom_kfold_crossval(X, y, k=10), sklearn_kfold_crossval(X, y, k=10)"
      ]
    },
    {
      "cell_type": "code",
      "execution_count": 27,
      "metadata": {
        "id": "pouAMCD_jRAw"
      },
      "outputs": [],
      "source": [
        "# Calculate mean accuracies for both custom and scikit-learn kNN\n",
        "custom_mean_accu = np.mean(custom_accuracies, axis=1)\n",
        "sklearn_mean_accu = np.mean(sklearn_accuracies, axis=1)"
      ]
    },
    {
      "cell_type": "code",
      "execution_count": 28,
      "metadata": {
        "colab": {
          "base_uri": "https://localhost:8080/"
        },
        "id": "Fnx5UP3KjRAw",
        "outputId": "8724ef44-8ab0-4140-ecbc-17828d6e7d3e"
      },
      "outputs": [
        {
          "output_type": "stream",
          "name": "stdout",
          "text": [
            "Custom KNN mean [68.95604396 68.95604396 61.42857143 56.81318681 50.93406593 53.18681319\n",
            " 52.36263736 54.61538462 53.79120879 54.50549451]\n",
            "Scikit-learn kNN Mean Accuracies: [66.7032967  66.7032967  59.06593407 52.25274725 49.12087912 53.73626374\n",
            " 54.50549451 56.75824176 55.27472527 54.61538462]\n"
          ]
        }
      ],
      "source": [
        "# Print mean accuracies\n",
        "print(\"Custom KNN mean\", custom_mean_accu)\n",
        "print(\"Scikit-learn kNN Mean Accuracies:\", sklearn_mean_accu)\n"
      ]
    },
    {
      "cell_type": "code",
      "execution_count": 29,
      "metadata": {
        "colab": {
          "base_uri": "https://localhost:8080/"
        },
        "id": "HpQxQsHFjRAx",
        "outputId": "0395717d-c1ca-42ec-fc90-e7eccbea59fe"
      },
      "outputs": [
        {
          "output_type": "stream",
          "name": "stdout",
          "text": [
            "For k=10, Custom Mean Accuracy: 54.505494505494504\n",
            "For k=10, Scikit-learn Mean Accuracy 54.615384615384606\n",
            "For k=10: t-statistic=-0.02, p-value=0.9859\n"
          ]
        }
      ],
      "source": [
        "print(\"For k=10, Custom Mean Accuracy:\", custom_mean_accu[9])\n",
        "print(\"For k=10, Scikit-learn Mean Accuracy\", sklearn_mean_accu[9])\n",
        "t_stat, p_value = stats.ttest_rel(custom_accuracies[9], sklearn_accuracies[9])\n",
        "print(f\"For k={10}: t-statistic={t_stat:.2f}, p-value={p_value:.4f}\")"
      ]
    },
    {
      "cell_type": "code",
      "execution_count": 30,
      "metadata": {
        "colab": {
          "base_uri": "https://localhost:8080/"
        },
        "id": "toHFRWx4jRAy",
        "outputId": "ffc81e08-8481-4374-cee0-a475ce6fce32"
      },
      "outputs": [
        {
          "output_type": "stream",
          "name": "stdout",
          "text": [
            "For k-value=10, Not Statistically Significant\n"
          ]
        }
      ],
      "source": [
        "significance_value = 0.05\n",
        "if p_value < significance_value:\n",
        "    print(\"For k-value=10, Statistically Significant\")\n",
        "else:\n",
        "    print(\"For k-value=10, Not Statistically Significant\")"
      ]
    }
  ],
  "metadata": {
    "kernelspec": {
      "display_name": "Python 3",
      "language": "python",
      "name": "python3"
    },
    "language_info": {
      "codemirror_mode": {
        "name": "ipython",
        "version": 3
      },
      "file_extension": ".py",
      "mimetype": "text/x-python",
      "name": "python",
      "nbconvert_exporter": "python",
      "pygments_lexer": "ipython3",
      "version": "3.9.6"
    },
    "orig_nbformat": 4,
    "colab": {
      "provenance": []
    }
  },
  "nbformat": 4,
  "nbformat_minor": 0
}